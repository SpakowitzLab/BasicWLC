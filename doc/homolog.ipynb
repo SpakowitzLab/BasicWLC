{
 "cells": [
  {
   "cell_type": "markdown",
   "metadata": {
    "toc": "true"
   },
   "source": [
    "# Table of Contents\n",
    " <p><div class=\"lev1\"><a href=\"#Meiotic-Homolog-Pairing\"><span class=\"toc-item-num\">1&nbsp;&nbsp;</span>Meiotic Homolog Pairing</a></div><div class=\"lev2\"><a href=\"#Testing-Code\"><span class=\"toc-item-num\">1.1&nbsp;&nbsp;</span>Testing Code</a></div><div class=\"lev3\"><a href=\"#Rouse-behavior\"><span class=\"toc-item-num\">1.1.1&nbsp;&nbsp;</span>Rouse behavior</a></div><div class=\"lev3\"><a href=\"#Ornstein-Uhlenbeck-test\"><span class=\"toc-item-num\">1.1.2&nbsp;&nbsp;</span>Ornstein-Uhlenbeck test</a></div><div class=\"lev3\"><a href=\"#Confinement\"><span class=\"toc-item-num\">1.1.3&nbsp;&nbsp;</span>Confinement</a></div><div class=\"lev3\"><a href=\"#Connectivity\"><span class=\"toc-item-num\">1.1.4&nbsp;&nbsp;</span>Connectivity</a></div><div class=\"lev2\"><a href=\"#Simulations\"><span class=\"toc-item-num\">1.2&nbsp;&nbsp;</span>Simulations</a></div>"
   ]
  },
  {
   "cell_type": "code",
   "execution_count": 1,
   "metadata": {},
   "outputs": [],
   "source": [
    "import numpy as np\n",
    "import matplotlib.pyplot as plt\n",
    "\n",
    "import wlcsim\n",
    "from wlcsim.bd import rouse, runge_kutta"
   ]
  },
  {
   "cell_type": "code",
   "execution_count": null,
   "metadata": {},
   "outputs": [],
   "source": []
  },
  {
   "cell_type": "markdown",
   "metadata": {},
   "source": [
    "#### TODO"
   ]
  },
  {
   "cell_type": "code",
   "execution_count": null,
   "metadata": {},
   "outputs": [],
   "source": []
  },
  {
   "cell_type": "markdown",
   "metadata": {},
   "source": [
    "# Meiotic Homolog Pairing\n",
    "\n",
    "In collaboration with the Burgess lab at UC Davis, we are interested in\n",
    "simulating chromosomes diffusing in a budding yeast nucleus in order to compare to their single-particle tracking data of homologous (and heterologous) loci diffusing in early meiosis I.\n",
    "\n",
    "We don't have concrete measurements of the viscoelasticity of these\n",
    "nuclei, we will assume they are water-like (i.e. $\\alpha = 1$ in a\n",
    "fractional Langevin model of polymer diffusion). And since we are interested in\n",
    "large-scale motion (frame rate in our real movies is already 30s), we can\n",
    "simply use the Rouse model for the behavior of each chromosome.\n",
    "\n",
    "## Testing Code\n",
    "\n",
    "The :mod:`wlcsim.bd.rouse` module was originally written by Bruno Beltran to\n",
    "replace Andrew Spakowitz/Steph Weber/Elena Koslover's FORTRAN77 Brownian\n",
    "dynamics codebase for fractional ssWLC simulation. We want to do some tests so\n",
    "make sure that the new code behaves as expected in all limiting cases with\n",
    "known behavior.\n",
    "\n",
    "### Rouse behavior\n",
    "\n",
    "The simulations should reproduce the Gaussian statistics associated with a\n",
    "Rouse polymer with the given parameters.\n",
    "\n",
    "This includes an MSD that scales like\n",
    "\n",
    "$$\n",
    "        \\begin{cases}\n",
    "            6 D (N/\\hat{N}) t \\\\\n",
    "            1.9544100 b \\sqrt{Dt} \\\\\n",
    "            6(D/\\hat{N}) t\n",
    "        \\end{cases}\n",
    "$$\n",
    "\n",
    "and Gaussian inter-bead distributions with mean spacing $L_0 b$.\n",
    "\n",
    "In order to see this behavior, we turn off the confinement by setting the\n",
    "strength of the confinement force `Aex` to 0, and do not tether any beads to\n",
    "the confinement nor pair any loci together"
   ]
  },
  {
   "cell_type": "code",
   "execution_count": 59,
   "metadata": {},
   "outputs": [],
   "source": [
    "import numpy as np\n",
    "import wlcsim\n",
    "from wlcsim.bd import rouse\n",
    "N = int(1e2+1); L = 17.475; R = 1; b = 0.015; D = 2e1 # ChrV\n",
    "dt = rouse.recommended_dt(N, L, b, D)\n",
    "Aex = 0; # no confinement\n",
    "N_tot, loop_list = rouse.homolog_points_to_loops_list(N, []) # no loops\n",
    "tether_list = np.array([]).astype(int) # no tethered loci"
   ]
  },
  {
   "cell_type": "markdown",
   "metadata": {},
   "source": [
    "The following derived parameters are explained in the docs for\n",
    ":mod:`wlcsim.bd.rouse`."
   ]
  },
  {
   "cell_type": "code",
   "execution_count": 3,
   "metadata": {},
   "outputs": [],
   "source": [
    "Nhat = L/b; L0 = L/(N-1); Dhat = D*N/Nhat; bhat = np.sqrt(L0*b)"
   ]
  },
  {
   "cell_type": "markdown",
   "metadata": {},
   "source": [
    "Saving all `1e6` time steps doesn't take up THAT much memory, but calculating the taMSD (a O(N^2) operation) for that many time points is prohibitive. \n",
    "\n",
    "We use `bnp.loglinsample` to save sets of equispaced time points (in chunks of length `Nlin`) that cover all time scales of our simulation. `Nlin` is chosen to be small enough that O(`Nlin`^2) is not too big.\n",
    "\n",
    "You can think of `loglinsample` as returning a bunch of separate arrays\n",
    "\n",
    "    1) `np.arange(0, dt*Nlin, dt)`\n",
    "    2) `np.arange(0, dt*Nlin**2, Nlin*dt)`\n",
    "    3) ...\n",
    "    4) `np.linspace(0, Nt*dt, Nlin)`\n",
    "    \n",
    "we will compute the MSD using the equally-spaced points in each of these arrays, then recombine that into a single curve below.\n"
   ]
  },
  {
   "cell_type": "code",
   "execution_count": 44,
   "metadata": {},
   "outputs": [],
   "source": [
    "from wlcsim.bd import runge_kutta\n",
    "Nt = 1e6; # total number of equi-space time steps\n",
    "Nlin = 1e4; # see docstring of loglinsample\n",
    "t = np.arange(0, Nt*dt, dt) # take Nt time steps\n",
    "from bruno_util import numpy as bnp\n",
    "t_i, i_i = bnp.loglinsample(Nt, Nlin, 0.6)\n",
    "t_save = t[t_i]"
   ]
  },
  {
   "cell_type": "code",
   "execution_count": 45,
   "metadata": {},
   "outputs": [],
   "source": [
    "i_i = [np.round(i).astype(int) for i in i_i] # numba workaround"
   ]
  },
  {
   "cell_type": "markdown",
   "metadata": {},
   "source": [
    "Simulate for long enough to see the cross-over into the :math:`t^{1/2}` regime.\n",
    "(This simulation takes about 4min on my laptop)."
   ]
  },
  {
   "cell_type": "code",
   "execution_count": 46,
   "metadata": {},
   "outputs": [],
   "source": [
    "# run actual simulation\n",
    "x = rouse._jit_rouse_homologs(N, N_tot, tether_list, loop_list, L, b, D, Aex, R, R, R, t, t_save)"
   ]
  },
  {
   "cell_type": "markdown",
   "metadata": {},
   "source": [
    "Post-processing simulation a score or so seconds per `_get_bead_msd` call (time averaged MSD calculation is expensive)"
   ]
  },
  {
   "cell_type": "code",
   "execution_count": 47,
   "metadata": {},
   "outputs": [],
   "source": [
    "sim_ts = []\n",
    "sim_msds = []\n",
    "for i in i_i:\n",
    "    sim_ts.append(t_save[i])\n",
    "    # extract msd of 51st (of 101) bead from simulation\n",
    "    m, c = wlcsim.bd.runge_kutta._get_bead_msd(x[i], 51)\n",
    "    sim_msds.append(m/c)\n"
   ]
  },
  {
   "cell_type": "markdown",
   "metadata": {},
   "source": [
    "First plot the MSD curves separately, to demonstrate that the clever time-point choice worked correctly"
   ]
  },
  {
   "cell_type": "code",
   "execution_count": 48,
   "metadata": {},
   "outputs": [
    {
     "data": {
      "image/png": "[encoded data removed]",
      "text/plain": [
       "<Figure size 432x288 with 1 Axes>"
      ]
     },
     "metadata": {
      "needs_background": "light"
     },
     "output_type": "display_data"
    }
   ],
   "source": [
    "for t, msd in zip(sim_ts, sim_msds):\n",
    "    plt.plot(t[1:], msd[1:])\n",
    "plt.yscale('log'); plt.xscale('log')"
   ]
  },
  {
   "cell_type": "markdown",
   "metadata": {},
   "source": [
    "now combine them altogether (this is what you would normally do)"
   ]
  },
  {
   "cell_type": "code",
   "execution_count": 49,
   "metadata": {},
   "outputs": [],
   "source": [
    "sim_msd = np.zeros_like(t_save)\n",
    "# for each set of equi-spaced time points we used\n",
    "for i in i_i:\n",
    "    # extract msd of 51st (of 101) bead from simulation\n",
    "    m, c = wlcsim.bd.runge_kutta._get_bead_msd(x[i], 51)\n",
    "    # recombine into single array, overwriting values computed from\n",
    "    # more tightly-space points with those from less tightly-spaced\n",
    "    sim_msd[i[1:]] = m[1:]/c[1:]\n"
   ]
  },
  {
   "cell_type": "markdown",
   "metadata": {},
   "source": [
    "compare MSD curves to analytical result (by truncating/choosing a finite number of modes matching N/2 beads, we recover the exact analytical theory for a finite rouse chain from that of the infinite chain)\n"
   ]
  },
  {
   "cell_type": "code",
   "execution_count": 50,
   "metadata": {},
   "outputs": [
    {
     "data": {
      "text/plain": [
       "<matplotlib.legend.Legend at 0x7f7a3c025f28>"
      ]
     },
     "execution_count": 50,
     "metadata": {},
     "output_type": "execute_result"
    },
    {
     "data": {
      "image/png": "[encoded data removed]",
      "text/plain": [
       "<Figure size 432x288 with 1 Axes>"
      ]
     },
     "metadata": {
      "needs_background": "light"
     },
     "output_type": "display_data"
    }
   ],
   "source": [
    "import matplotlib.pyplot as plt\n",
    "# exclude t=0 to make log/log msd look good\n",
    "plt.plot(t_save[1:], 6*D*(N/Nhat)*t_save[1:], label='Short-time behavior')\n",
    "plt.plot(t_save[1:], 1.9544100*b*np.sqrt(D*t_save[1:]), label='Rouse-like behavior')\n",
    "plt.plot(t_save[1:], 6*D*t_save[1:]/Nhat, label='Long-time behavior')\n",
    "plt.plot(t_save[1:], wlcsim.analytical.rouse.rouse_mid_msd(t_save[1:],\n",
    "\t\tb, Nhat, D, num_modes=int(N/2)), 'k', label='Analytical MSD')\n",
    "\n",
    "plt.plot(t_save[1:], sim_msd[1:], 'r', label='Simulation MSD', lw=2)\n",
    "\n",
    "plt.yscale('log'); plt.xscale('log');\n",
    "plt.legend()"
   ]
  },
  {
   "cell_type": "markdown",
   "metadata": {},
   "source": [
    "### Ornstein-Uhlenbeck test"
   ]
  },
  {
   "cell_type": "markdown",
   "metadata": {},
   "source": [
    "Two-bead chains can be well understood as an Ornstein-Uhlenbeck process in the\n",
    "coordinates of one of the beads. The position autocorrelation of the second bed\n",
    "should be an exponential\n",
    "\n",
    "$$ \\langle x_s - x_0, x_t - x_0 \\rangle = \\frac{k_B T}{k} \\exp\\left(-k|t|/\\xi\\right) $$\n"
   ]
  },
  {
   "cell_type": "code",
   "execution_count": 3,
   "metadata": {},
   "outputs": [],
   "source": [
    "N = 2; L = 3; R = 1000; b = 1; D = 5 # two O-U processes\n",
    "dt = rouse.recommended_dt(N, L, b, D)\n",
    "Aex = 0; # no confinement\n",
    "N_tot, loop_list = rouse.homolog_points_to_loops_list(N, []) # no loops\n",
    "tether_list = np.array([]).astype(int) # no tethered loci"
   ]
  },
  {
   "cell_type": "markdown",
   "metadata": {},
   "source": [
    "we run 100 copies of the process, to get better stats (so 200 total 3D O-U processes, since each simulation has two \"homologs\")"
   ]
  },
  {
   "cell_type": "code",
   "execution_count": 4,
   "metadata": {},
   "outputs": [],
   "source": [
    "Nt = 1e4;\n",
    "t = np.arange(0, Nt*dt, dt) # take Nt time steps\n",
    "X = []\n",
    "for i in range(100):\n",
    "    x = rouse._jit_rouse_homologs(N, N_tot, tether_list, loop_list, L, b, D, Aex, R, R, R, t, t)\n",
    "    X.append(np.stack([x[:,1,:] - x[:,0,:], x[:,3,:] - x[:,2,:]]))\n",
    "X = np.concatenate(X, axis=0)"
   ]
  },
  {
   "cell_type": "code",
   "execution_count": 7,
   "metadata": {},
   "outputs": [
    {
     "data": {
      "text/plain": [
       "(200, 10000, 3)"
      ]
     },
     "execution_count": 7,
     "metadata": {},
     "output_type": "execute_result"
    }
   ],
   "source": [
    "X.shape # (num_samples, num_t, d)"
   ]
  },
  {
   "cell_type": "code",
   "execution_count": 6,
   "metadata": {},
   "outputs": [],
   "source": [
    "# abuse get_bead_msd, which expects X.shape == (num_t, num_beads, d)\n",
    "# to get one of the sample's MSDs by pretending its a \"bead\"\n",
    "sim_msd, count = wlcsim.bd.runge_kutta._get_bead_msd(np.transpose(X, [1, 0, 2]), 1)"
   ]
  },
  {
   "cell_type": "code",
   "execution_count": 8,
   "metadata": {},
   "outputs": [
    {
     "data": {
      "image/png": "[encoded data removed]",
      "text/plain": [
       "<Figure size 432x288 with 1 Axes>"
      ]
     },
     "metadata": {
      "needs_background": "light"
     },
     "output_type": "display_data"
    }
   ],
   "source": [
    "plt.plot(t[1:], sim_msd[1:]/count[1:], 'k')\n",
    "plt.yscale('log'); plt.xscale('log')"
   ]
  },
  {
   "cell_type": "code",
   "execution_count": 9,
   "metadata": {},
   "outputs": [],
   "source": [
    "corr, count = wlcsim.bd.runge_kutta._get_vector_corr(X)"
   ]
  },
  {
   "cell_type": "code",
   "execution_count": 25,
   "metadata": {},
   "outputs": [
    {
     "data": {
      "text/plain": [
       "(0.0001, 10.0)"
      ]
     },
     "execution_count": 25,
     "metadata": {},
     "output_type": "execute_result"
    },
    {
     "data": {
      "image/png": "[encoded data removed]",
      "text/plain": [
       "<Figure size 432x288 with 1 Axes>"
      ]
     },
     "metadata": {
      "needs_background": "light"
     },
     "output_type": "display_data"
    }
   ],
   "source": [
    "Nhat = L/b; L0 = L/(N-1); Dhat = D*N/Nhat; bhat = np.sqrt(L0*b)\n",
    "plt.plot(t, corr/count, 'kx')\n",
    "kbT_over_k = 3*bhat**2/3 # bhat**2/3 per dimension\n",
    "k_over_xi = 3*(2*Dhat)/bhat**2 # extra (2*Dhat) because it's two beads tethered, not one tether to origin\n",
    "plt.plot(t, kbT_over_k * np.exp(-k_over_xi*t), 'b')\n",
    "plt.yscale('log')\n",
    "plt.xlim([0, 1.5])\n",
    "plt.ylim([1e-4, 1e1])"
   ]
  },
  {
   "cell_type": "markdown",
   "metadata": {},
   "source": [
    "###  Confinement\n",
    "\n",
    "As seen above, if the confinement size is made \"weak enough\", the simulation\n",
    "behaves as it should in the absense of a confinement.\n",
    "\n",
    "The MSD should plateau at the radius of the confinement."
   ]
  },
  {
   "cell_type": "code",
   "execution_count": 29,
   "metadata": {},
   "outputs": [],
   "source": [
    "N = int(1e2+1); L = 17.475; R = 1.000; b = 0.015; D = 2e1 # ChrV\n",
    "dt = rouse.recommended_dt(N, L, b, D)\n",
    "Aex = 100; # multiplier on confinement force\n",
    "N_tot, loop_list = rouse.homolog_points_to_loops_list(N, []) # no loops\n",
    "tether_list = np.array([]).astype(int) # no tethered loci"
   ]
  },
  {
   "cell_type": "code",
   "execution_count": 35,
   "metadata": {},
   "outputs": [],
   "source": [
    "Nt = 1e8; Nt_save = 1e4;\n",
    "t = np.arange(0, Nt*dt, dt) # take Nt time steps\n",
    "t_save = t[::int(Nt/Nt_save)] # save only a subsample\n",
    "# run actual simulation\n",
    "x = rouse._jit_rouse_homologs(N, N_tot, tether_list, loop_list, L, b, D, Aex, R, R, R, t, t_save)"
   ]
  },
  {
   "cell_type": "code",
   "execution_count": 36,
   "metadata": {},
   "outputs": [],
   "source": [
    "# extract msd of 51st (of 101) bead from simulation\n",
    "sim_msd, count = wlcsim.bd.runge_kutta._get_bead_msd(x, 51)"
   ]
  },
  {
   "cell_type": "code",
   "execution_count": 37,
   "metadata": {},
   "outputs": [
    {
     "data": {
      "text/plain": [
       "<matplotlib.legend.Legend at 0x7f0ac12c9710>"
      ]
     },
     "execution_count": 37,
     "metadata": {},
     "output_type": "execute_result"
    },
    {
     "data": {
      "image/png": "[encoded data removed]",
      "text/plain": [
       "<Figure size 432x288 with 1 Axes>"
      ]
     },
     "metadata": {
      "needs_background": "light"
     },
     "output_type": "display_data"
    }
   ],
   "source": [
    "Nhat = L/b; L0 = L/(N-1); Dhat = D*N/Nhat; bhat = np.sqrt(L0*b)\n",
    "# exclude t=0 to make log/log msd look good\n",
    "plt.plot(t_save[1:], 6*D*(N/Nhat)*t_save[1:], label='Short-time behavior')\n",
    "plt.plot(t_save[1:], 1.9544100*b*np.sqrt(D*t_save[1:]), label='Rouse-like behavior')\n",
    "plt.plot(t_save[1:], 6*D*t_save[1:]/Nhat, label='Long-time behavior')\n",
    "plt.plot(t_save[1:], sim_msd[1:]/count[1:], 'r', label='Simulation MSD')\n",
    "plt.plot(t_save[1:], wlcsim.analytical.rouse.rouse_mid_msd(t_save[1:],\n",
    "\t\tb, Nhat, D, num_modes=int(N/2)), 'k', label='Analytical MSD')\n",
    "plt.yscale('log'); plt.xscale('log');\n",
    "plt.legend()"
   ]
  },
  {
   "cell_type": "markdown",
   "metadata": {},
   "source": [
    "Beads that are \"tethered\" to the confinement should be preferentially \"close\"\n",
    "to it compared to the rest of the beads in the simulation."
   ]
  },
  {
   "cell_type": "code",
   "execution_count": 51,
   "metadata": {},
   "outputs": [],
   "source": [
    "N = int(1e2+1); L = 17.475; R = 1.000; b = 0.015; D = 2e1 # ChrV\n",
    "dt = rouse.recommended_dt(N, L, b, D)\n",
    "Aex = 100; # multiplier on confinement force\n",
    "N_tot, loop_list = rouse.homolog_points_to_loops_list(N, []) # no loops\n",
    "tether_list = np.array([0, 51, 100]).astype(int) # tethered telomeres and centromere"
   ]
  },
  {
   "cell_type": "code",
   "execution_count": 52,
   "metadata": {},
   "outputs": [
    {
     "name": "stdout",
     "output_type": "stream",
     "text": [
      "NOTE: Enter 'c' at the ipdb>  prompt to continue execution.\n",
      "> \u001b[0;32m<string>\u001b[0m(2)\u001b[0;36m<module>\u001b[0;34m()\u001b[0m\n",
      "\n",
      "ipdb> s\n",
      "> \u001b[0;32m<string>\u001b[0m(3)\u001b[0;36m<module>\u001b[0;34m()\u001b[0m\n",
      "\n",
      "ipdb> s\n",
      "> \u001b[0;32m<string>\u001b[0m(4)\u001b[0;36m<module>\u001b[0;34m()\u001b[0m\n",
      "\n",
      "ipdb> \n",
      "> \u001b[0;32m<string>\u001b[0m(6)\u001b[0;36m<module>\u001b[0;34m()\u001b[0m\n",
      "\n",
      "ipdb> \n",
      "--Call--\n",
      "> \u001b[0;32m/home/bbeltr1/.miniconda/lib/python3.7/site-packages/numba/dispatcher.py\u001b[0m(521)\u001b[0;36mtypeof_pyval\u001b[0;34m()\u001b[0m\n",
      "\u001b[0;32m    519 \u001b[0;31m        \u001b[0;32mreturn\u001b[0m \u001b[0;34m\"%s(%s)\"\u001b[0m \u001b[0;34m%\u001b[0m \u001b[0;34m(\u001b[0m\u001b[0mtype\u001b[0m\u001b[0;34m(\u001b[0m\u001b[0mself\u001b[0m\u001b[0;34m)\u001b[0m\u001b[0;34m.\u001b[0m\u001b[0m__name__\u001b[0m\u001b[0;34m,\u001b[0m \u001b[0mself\u001b[0m\u001b[0;34m.\u001b[0m\u001b[0mpy_func\u001b[0m\u001b[0;34m)\u001b[0m\u001b[0;34m\u001b[0m\u001b[0;34m\u001b[0m\u001b[0m\n",
      "\u001b[0m\u001b[0;32m    520 \u001b[0;31m\u001b[0;34m\u001b[0m\u001b[0m\n",
      "\u001b[0m\u001b[0;32m--> 521 \u001b[0;31m    \u001b[0;32mdef\u001b[0m \u001b[0mtypeof_pyval\u001b[0m\u001b[0;34m(\u001b[0m\u001b[0mself\u001b[0m\u001b[0;34m,\u001b[0m \u001b[0mval\u001b[0m\u001b[0;34m)\u001b[0m\u001b[0;34m:\u001b[0m\u001b[0;34m\u001b[0m\u001b[0;34m\u001b[0m\u001b[0m\n",
      "\u001b[0m\u001b[0;32m    522 \u001b[0;31m        \"\"\"\n",
      "\u001b[0m\u001b[0;32m    523 \u001b[0;31m        \u001b[0mResolve\u001b[0m \u001b[0mthe\u001b[0m \u001b[0mNumba\u001b[0m \u001b[0mtype\u001b[0m \u001b[0mof\u001b[0m \u001b[0mPython\u001b[0m \u001b[0mvalue\u001b[0m \u001b[0;34m*\u001b[0m\u001b[0mval\u001b[0m\u001b[0;34m*\u001b[0m\u001b[0;34m.\u001b[0m\u001b[0;34m\u001b[0m\u001b[0;34m\u001b[0m\u001b[0m\n",
      "\u001b[0m\n",
      "ipdb> n\n",
      "> \u001b[0;32m/home/bbeltr1/.miniconda/lib/python3.7/site-packages/numba/dispatcher.py\u001b[0m(529)\u001b[0;36mtypeof_pyval\u001b[0;34m()\u001b[0m\n",
      "\u001b[0;32m    527 \u001b[0;31m        \u001b[0;31m# Not going through the resolve_argument_type() indirection\u001b[0m\u001b[0;34m\u001b[0m\u001b[0;34m\u001b[0m\u001b[0;34m\u001b[0m\u001b[0m\n",
      "\u001b[0m\u001b[0;32m    528 \u001b[0;31m        \u001b[0;31m# can save a couple µs.\u001b[0m\u001b[0;34m\u001b[0m\u001b[0;34m\u001b[0m\u001b[0;34m\u001b[0m\u001b[0m\n",
      "\u001b[0m\u001b[0;32m--> 529 \u001b[0;31m        \u001b[0;32mtry\u001b[0m\u001b[0;34m:\u001b[0m\u001b[0;34m\u001b[0m\u001b[0;34m\u001b[0m\u001b[0m\n",
      "\u001b[0m\u001b[0;32m    530 \u001b[0;31m            \u001b[0mtp\u001b[0m \u001b[0;34m=\u001b[0m \u001b[0mtypeof\u001b[0m\u001b[0;34m(\u001b[0m\u001b[0mval\u001b[0m\u001b[0;34m,\u001b[0m \u001b[0mPurpose\u001b[0m\u001b[0;34m.\u001b[0m\u001b[0margument\u001b[0m\u001b[0;34m)\u001b[0m\u001b[0;34m\u001b[0m\u001b[0;34m\u001b[0m\u001b[0m\n",
      "\u001b[0m\u001b[0;32m    531 \u001b[0;31m        \u001b[0;32mexcept\u001b[0m \u001b[0mValueError\u001b[0m\u001b[0;34m:\u001b[0m\u001b[0;34m\u001b[0m\u001b[0;34m\u001b[0m\u001b[0m\n",
      "\u001b[0m\n",
      "ipdb> \n",
      "> \u001b[0;32m/home/bbeltr1/.miniconda/lib/python3.7/site-packages/numba/dispatcher.py\u001b[0m(530)\u001b[0;36mtypeof_pyval\u001b[0;34m()\u001b[0m\n",
      "\u001b[0;32m    528 \u001b[0;31m        \u001b[0;31m# can save a couple µs.\u001b[0m\u001b[0;34m\u001b[0m\u001b[0;34m\u001b[0m\u001b[0;34m\u001b[0m\u001b[0m\n",
      "\u001b[0m\u001b[0;32m    529 \u001b[0;31m        \u001b[0;32mtry\u001b[0m\u001b[0;34m:\u001b[0m\u001b[0;34m\u001b[0m\u001b[0;34m\u001b[0m\u001b[0m\n",
      "\u001b[0m\u001b[0;32m--> 530 \u001b[0;31m            \u001b[0mtp\u001b[0m \u001b[0;34m=\u001b[0m \u001b[0mtypeof\u001b[0m\u001b[0;34m(\u001b[0m\u001b[0mval\u001b[0m\u001b[0;34m,\u001b[0m \u001b[0mPurpose\u001b[0m\u001b[0;34m.\u001b[0m\u001b[0margument\u001b[0m\u001b[0;34m)\u001b[0m\u001b[0;34m\u001b[0m\u001b[0;34m\u001b[0m\u001b[0m\n",
      "\u001b[0m\u001b[0;32m    531 \u001b[0;31m        \u001b[0;32mexcept\u001b[0m \u001b[0mValueError\u001b[0m\u001b[0;34m:\u001b[0m\u001b[0;34m\u001b[0m\u001b[0;34m\u001b[0m\u001b[0m\n",
      "\u001b[0m\u001b[0;32m    532 \u001b[0;31m            \u001b[0mtp\u001b[0m \u001b[0;34m=\u001b[0m \u001b[0mtypes\u001b[0m\u001b[0;34m.\u001b[0m\u001b[0mpyobject\u001b[0m\u001b[0;34m\u001b[0m\u001b[0;34m\u001b[0m\u001b[0m\n",
      "\u001b[0m\n",
      "ipdb> \n",
      "> \u001b[0;32m/home/bbeltr1/.miniconda/lib/python3.7/site-packages/numba/dispatcher.py\u001b[0m(534)\u001b[0;36mtypeof_pyval\u001b[0;34m()\u001b[0m\n",
      "\u001b[0;32m    532 \u001b[0;31m            \u001b[0mtp\u001b[0m \u001b[0;34m=\u001b[0m \u001b[0mtypes\u001b[0m\u001b[0;34m.\u001b[0m\u001b[0mpyobject\u001b[0m\u001b[0;34m\u001b[0m\u001b[0;34m\u001b[0m\u001b[0m\n",
      "\u001b[0m\u001b[0;32m    533 \u001b[0;31m        \u001b[0;32melse\u001b[0m\u001b[0;34m:\u001b[0m\u001b[0;34m\u001b[0m\u001b[0;34m\u001b[0m\u001b[0m\n",
      "\u001b[0m\u001b[0;32m--> 534 \u001b[0;31m            \u001b[0;32mif\u001b[0m \u001b[0mtp\u001b[0m \u001b[0;32mis\u001b[0m \u001b[0;32mNone\u001b[0m\u001b[0;34m:\u001b[0m\u001b[0;34m\u001b[0m\u001b[0;34m\u001b[0m\u001b[0m\n",
      "\u001b[0m\u001b[0;32m    535 \u001b[0;31m                \u001b[0mtp\u001b[0m \u001b[0;34m=\u001b[0m \u001b[0mtypes\u001b[0m\u001b[0;34m.\u001b[0m\u001b[0mpyobject\u001b[0m\u001b[0;34m\u001b[0m\u001b[0;34m\u001b[0m\u001b[0m\n",
      "\u001b[0m\u001b[0;32m    536 \u001b[0;31m        \u001b[0;32mreturn\u001b[0m \u001b[0mtp\u001b[0m\u001b[0;34m\u001b[0m\u001b[0;34m\u001b[0m\u001b[0m\n",
      "\u001b[0m\n",
      "ipdb> \n",
      "> \u001b[0;32m/home/bbeltr1/.miniconda/lib/python3.7/site-packages/numba/dispatcher.py\u001b[0m(536)\u001b[0;36mtypeof_pyval\u001b[0;34m()\u001b[0m\n",
      "\u001b[0;32m    534 \u001b[0;31m            \u001b[0;32mif\u001b[0m \u001b[0mtp\u001b[0m \u001b[0;32mis\u001b[0m \u001b[0;32mNone\u001b[0m\u001b[0;34m:\u001b[0m\u001b[0;34m\u001b[0m\u001b[0;34m\u001b[0m\u001b[0m\n",
      "\u001b[0m\u001b[0;32m    535 \u001b[0;31m                \u001b[0mtp\u001b[0m \u001b[0;34m=\u001b[0m \u001b[0mtypes\u001b[0m\u001b[0;34m.\u001b[0m\u001b[0mpyobject\u001b[0m\u001b[0;34m\u001b[0m\u001b[0;34m\u001b[0m\u001b[0m\n",
      "\u001b[0m\u001b[0;32m--> 536 \u001b[0;31m        \u001b[0;32mreturn\u001b[0m \u001b[0mtp\u001b[0m\u001b[0;34m\u001b[0m\u001b[0;34m\u001b[0m\u001b[0m\n",
      "\u001b[0m\u001b[0;32m    537 \u001b[0;31m\u001b[0;34m\u001b[0m\u001b[0m\n",
      "\u001b[0m\u001b[0;32m    538 \u001b[0;31m\u001b[0;34m\u001b[0m\u001b[0m\n",
      "\u001b[0m\n",
      "ipdb> \n",
      "--Return--\n",
      "array(float64, 1d, A)\n",
      "> \u001b[0;32m/home/bbeltr1/.miniconda/lib/python3.7/site-packages/numba/dispatcher.py\u001b[0m(536)\u001b[0;36mtypeof_pyval\u001b[0;34m()\u001b[0m\n",
      "\u001b[0;32m    534 \u001b[0;31m            \u001b[0;32mif\u001b[0m \u001b[0mtp\u001b[0m \u001b[0;32mis\u001b[0m \u001b[0;32mNone\u001b[0m\u001b[0;34m:\u001b[0m\u001b[0;34m\u001b[0m\u001b[0;34m\u001b[0m\u001b[0m\n",
      "\u001b[0m\u001b[0;32m    535 \u001b[0;31m                \u001b[0mtp\u001b[0m \u001b[0;34m=\u001b[0m \u001b[0mtypes\u001b[0m\u001b[0;34m.\u001b[0m\u001b[0mpyobject\u001b[0m\u001b[0;34m\u001b[0m\u001b[0;34m\u001b[0m\u001b[0m\n",
      "\u001b[0m\u001b[0;32m--> 536 \u001b[0;31m        \u001b[0;32mreturn\u001b[0m \u001b[0mtp\u001b[0m\u001b[0;34m\u001b[0m\u001b[0;34m\u001b[0m\u001b[0m\n",
      "\u001b[0m\u001b[0;32m    537 \u001b[0;31m\u001b[0;34m\u001b[0m\u001b[0m\n",
      "\u001b[0m\u001b[0;32m    538 \u001b[0;31m\u001b[0;34m\u001b[0m\u001b[0m\n",
      "\u001b[0m\n",
      "ipdb> \n",
      "--Call--\n",
      "> \u001b[0;32m/home/bbeltr1/.miniconda/lib/python3.7/site-packages/numba/dispatcher.py\u001b[0m(325)\u001b[0;36m_compile_for_args\u001b[0;34m()\u001b[0m\n",
      "\u001b[0;32m    323 \u001b[0;31m        \u001b[0;32mreturn\u001b[0m \u001b[0mself\u001b[0m\u001b[0;34m.\u001b[0m\u001b[0m_compiling_counter\u001b[0m\u001b[0;34m\u001b[0m\u001b[0;34m\u001b[0m\u001b[0m\n",
      "\u001b[0m\u001b[0;32m    324 \u001b[0;31m\u001b[0;34m\u001b[0m\u001b[0m\n",
      "\u001b[0m\u001b[0;32m--> 325 \u001b[0;31m    \u001b[0;32mdef\u001b[0m \u001b[0m_compile_for_args\u001b[0m\u001b[0;34m(\u001b[0m\u001b[0mself\u001b[0m\u001b[0;34m,\u001b[0m \u001b[0;34m*\u001b[0m\u001b[0margs\u001b[0m\u001b[0;34m,\u001b[0m \u001b[0;34m**\u001b[0m\u001b[0mkws\u001b[0m\u001b[0;34m)\u001b[0m\u001b[0;34m:\u001b[0m\u001b[0;34m\u001b[0m\u001b[0;34m\u001b[0m\u001b[0m\n",
      "\u001b[0m\u001b[0;32m    326 \u001b[0;31m        \"\"\"\n",
      "\u001b[0m\u001b[0;32m    327 \u001b[0;31m        \u001b[0mFor\u001b[0m \u001b[0minternal\u001b[0m \u001b[0muse\u001b[0m\u001b[0;34m.\u001b[0m  \u001b[0mCompile\u001b[0m \u001b[0ma\u001b[0m \u001b[0mspecialized\u001b[0m \u001b[0mversion\u001b[0m \u001b[0mof\u001b[0m \u001b[0mthe\u001b[0m \u001b[0mfunction\u001b[0m\u001b[0;34m\u001b[0m\u001b[0;34m\u001b[0m\u001b[0m\n",
      "\u001b[0m\n",
      "ipdb> s\n",
      "> \u001b[0;32m/home/bbeltr1/.miniconda/lib/python3.7/site-packages/numba/dispatcher.py\u001b[0m(330)\u001b[0;36m_compile_for_args\u001b[0;34m()\u001b[0m\n",
      "\u001b[0;32m    328 \u001b[0;31m        \u001b[0;32mfor\u001b[0m \u001b[0mthe\u001b[0m \u001b[0mgiven\u001b[0m \u001b[0;34m*\u001b[0m\u001b[0margs\u001b[0m\u001b[0;34m*\u001b[0m \u001b[0;32mand\u001b[0m \u001b[0;34m*\u001b[0m\u001b[0mkws\u001b[0m\u001b[0;34m*\u001b[0m\u001b[0;34m,\u001b[0m \u001b[0;32mand\u001b[0m \u001b[0;32mreturn\u001b[0m \u001b[0mthe\u001b[0m \u001b[0mresulting\u001b[0m \u001b[0mcallable\u001b[0m\u001b[0;34m.\u001b[0m\u001b[0;34m\u001b[0m\u001b[0;34m\u001b[0m\u001b[0m\n",
      "\u001b[0m\u001b[0;32m    329 \u001b[0;31m        \"\"\"\n",
      "\u001b[0m\u001b[0;32m--> 330 \u001b[0;31m        \u001b[0;32massert\u001b[0m \u001b[0;32mnot\u001b[0m \u001b[0mkws\u001b[0m\u001b[0;34m\u001b[0m\u001b[0;34m\u001b[0m\u001b[0m\n",
      "\u001b[0m\u001b[0;32m    331 \u001b[0;31m\u001b[0;34m\u001b[0m\u001b[0m\n",
      "\u001b[0m\u001b[0;32m    332 \u001b[0;31m        \u001b[0;32mdef\u001b[0m \u001b[0merror_rewrite\u001b[0m\u001b[0;34m(\u001b[0m\u001b[0me\u001b[0m\u001b[0;34m,\u001b[0m \u001b[0missue_type\u001b[0m\u001b[0;34m)\u001b[0m\u001b[0;34m:\u001b[0m\u001b[0;34m\u001b[0m\u001b[0;34m\u001b[0m\u001b[0m\n",
      "\u001b[0m\n",
      "ipdb> \n",
      "> \u001b[0;32m/home/bbeltr1/.miniconda/lib/python3.7/site-packages/numba/dispatcher.py\u001b[0m(332)\u001b[0;36m_compile_for_args\u001b[0;34m()\u001b[0m\n",
      "\u001b[0;32m    330 \u001b[0;31m        \u001b[0;32massert\u001b[0m \u001b[0;32mnot\u001b[0m \u001b[0mkws\u001b[0m\u001b[0;34m\u001b[0m\u001b[0;34m\u001b[0m\u001b[0m\n",
      "\u001b[0m\u001b[0;32m    331 \u001b[0;31m\u001b[0;34m\u001b[0m\u001b[0m\n",
      "\u001b[0m\u001b[0;32m--> 332 \u001b[0;31m        \u001b[0;32mdef\u001b[0m \u001b[0merror_rewrite\u001b[0m\u001b[0;34m(\u001b[0m\u001b[0me\u001b[0m\u001b[0;34m,\u001b[0m \u001b[0missue_type\u001b[0m\u001b[0;34m)\u001b[0m\u001b[0;34m:\u001b[0m\u001b[0;34m\u001b[0m\u001b[0;34m\u001b[0m\u001b[0m\n",
      "\u001b[0m\u001b[0;32m    333 \u001b[0;31m            \"\"\"\n",
      "\u001b[0m\u001b[0;32m    334 \u001b[0;31m            \u001b[0mRewrite\u001b[0m \u001b[0;32mand\u001b[0m \u001b[0;32mraise\u001b[0m \u001b[0mException\u001b[0m\u001b[0;31m \u001b[0m\u001b[0;31m`\u001b[0m\u001b[0me\u001b[0m\u001b[0;31m`\u001b[0m \u001b[0;32mwith\u001b[0m \u001b[0mhelp\u001b[0m \u001b[0msupplied\u001b[0m \u001b[0mbased\u001b[0m \u001b[0mon\u001b[0m \u001b[0mthe\u001b[0m\u001b[0;34m\u001b[0m\u001b[0;34m\u001b[0m\u001b[0m\n",
      "\u001b[0m\n",
      "ipdb> \n",
      "> \u001b[0;32m/home/bbeltr1/.miniconda/lib/python3.7/site-packages/numba/dispatcher.py\u001b[0m(345)\u001b[0;36m_compile_for_args\u001b[0;34m()\u001b[0m\n",
      "\u001b[0;32m    343 \u001b[0;31m                \u001b[0mreraise\u001b[0m\u001b[0;34m(\u001b[0m\u001b[0mtype\u001b[0m\u001b[0;34m(\u001b[0m\u001b[0me\u001b[0m\u001b[0;34m)\u001b[0m\u001b[0;34m,\u001b[0m \u001b[0me\u001b[0m\u001b[0;34m,\u001b[0m \u001b[0;32mNone\u001b[0m\u001b[0;34m)\u001b[0m\u001b[0;34m\u001b[0m\u001b[0;34m\u001b[0m\u001b[0m\n",
      "\u001b[0m\u001b[0;32m    344 \u001b[0;31m\u001b[0;34m\u001b[0m\u001b[0m\n",
      "\u001b[0m\u001b[0;32m--> 345 \u001b[0;31m        \u001b[0margtypes\u001b[0m \u001b[0;34m=\u001b[0m \u001b[0;34m[\u001b[0m\u001b[0;34m]\u001b[0m\u001b[0;34m\u001b[0m\u001b[0;34m\u001b[0m\u001b[0m\n",
      "\u001b[0m\u001b[0;32m    346 \u001b[0;31m        \u001b[0;32mfor\u001b[0m \u001b[0ma\u001b[0m \u001b[0;32min\u001b[0m \u001b[0margs\u001b[0m\u001b[0;34m:\u001b[0m\u001b[0;34m\u001b[0m\u001b[0;34m\u001b[0m\u001b[0m\n",
      "\u001b[0m\u001b[0;32m    347 \u001b[0;31m            \u001b[0;32mif\u001b[0m \u001b[0misinstance\u001b[0m\u001b[0;34m(\u001b[0m\u001b[0ma\u001b[0m\u001b[0;34m,\u001b[0m \u001b[0mOmittedArg\u001b[0m\u001b[0;34m)\u001b[0m\u001b[0;34m:\u001b[0m\u001b[0;34m\u001b[0m\u001b[0;34m\u001b[0m\u001b[0m\n",
      "\u001b[0m\n",
      "ipdb> \n",
      "> \u001b[0;32m/home/bbeltr1/.miniconda/lib/python3.7/site-packages/numba/dispatcher.py\u001b[0m(346)\u001b[0;36m_compile_for_args\u001b[0;34m()\u001b[0m\n",
      "\u001b[0;32m    344 \u001b[0;31m\u001b[0;34m\u001b[0m\u001b[0m\n",
      "\u001b[0m\u001b[0;32m    345 \u001b[0;31m        \u001b[0margtypes\u001b[0m \u001b[0;34m=\u001b[0m \u001b[0;34m[\u001b[0m\u001b[0;34m]\u001b[0m\u001b[0;34m\u001b[0m\u001b[0;34m\u001b[0m\u001b[0m\n",
      "\u001b[0m\u001b[0;32m--> 346 \u001b[0;31m        \u001b[0;32mfor\u001b[0m \u001b[0ma\u001b[0m \u001b[0;32min\u001b[0m \u001b[0margs\u001b[0m\u001b[0;34m:\u001b[0m\u001b[0;34m\u001b[0m\u001b[0;34m\u001b[0m\u001b[0m\n",
      "\u001b[0m\u001b[0;32m    347 \u001b[0;31m            \u001b[0;32mif\u001b[0m \u001b[0misinstance\u001b[0m\u001b[0;34m(\u001b[0m\u001b[0ma\u001b[0m\u001b[0;34m,\u001b[0m \u001b[0mOmittedArg\u001b[0m\u001b[0;34m)\u001b[0m\u001b[0;34m:\u001b[0m\u001b[0;34m\u001b[0m\u001b[0;34m\u001b[0m\u001b[0m\n",
      "\u001b[0m\u001b[0;32m    348 \u001b[0;31m                \u001b[0margtypes\u001b[0m\u001b[0;34m.\u001b[0m\u001b[0mappend\u001b[0m\u001b[0;34m(\u001b[0m\u001b[0mtypes\u001b[0m\u001b[0;34m.\u001b[0m\u001b[0mOmitted\u001b[0m\u001b[0;34m(\u001b[0m\u001b[0ma\u001b[0m\u001b[0;34m.\u001b[0m\u001b[0mvalue\u001b[0m\u001b[0;34m)\u001b[0m\u001b[0;34m)\u001b[0m\u001b[0;34m\u001b[0m\u001b[0;34m\u001b[0m\u001b[0m\n",
      "\u001b[0m\n"
     ]
    },
    {
     "name": "stdout",
     "output_type": "stream",
     "text": [
      "ipdb> \n",
      "> \u001b[0;32m/home/bbeltr1/.miniconda/lib/python3.7/site-packages/numba/dispatcher.py\u001b[0m(347)\u001b[0;36m_compile_for_args\u001b[0;34m()\u001b[0m\n",
      "\u001b[0;32m    345 \u001b[0;31m        \u001b[0margtypes\u001b[0m \u001b[0;34m=\u001b[0m \u001b[0;34m[\u001b[0m\u001b[0;34m]\u001b[0m\u001b[0;34m\u001b[0m\u001b[0;34m\u001b[0m\u001b[0m\n",
      "\u001b[0m\u001b[0;32m    346 \u001b[0;31m        \u001b[0;32mfor\u001b[0m \u001b[0ma\u001b[0m \u001b[0;32min\u001b[0m \u001b[0margs\u001b[0m\u001b[0;34m:\u001b[0m\u001b[0;34m\u001b[0m\u001b[0;34m\u001b[0m\u001b[0m\n",
      "\u001b[0m\u001b[0;32m--> 347 \u001b[0;31m            \u001b[0;32mif\u001b[0m \u001b[0misinstance\u001b[0m\u001b[0;34m(\u001b[0m\u001b[0ma\u001b[0m\u001b[0;34m,\u001b[0m \u001b[0mOmittedArg\u001b[0m\u001b[0;34m)\u001b[0m\u001b[0;34m:\u001b[0m\u001b[0;34m\u001b[0m\u001b[0;34m\u001b[0m\u001b[0m\n",
      "\u001b[0m\u001b[0;32m    348 \u001b[0;31m                \u001b[0margtypes\u001b[0m\u001b[0;34m.\u001b[0m\u001b[0mappend\u001b[0m\u001b[0;34m(\u001b[0m\u001b[0mtypes\u001b[0m\u001b[0;34m.\u001b[0m\u001b[0mOmitted\u001b[0m\u001b[0;34m(\u001b[0m\u001b[0ma\u001b[0m\u001b[0;34m.\u001b[0m\u001b[0mvalue\u001b[0m\u001b[0;34m)\u001b[0m\u001b[0;34m)\u001b[0m\u001b[0;34m\u001b[0m\u001b[0;34m\u001b[0m\u001b[0m\n",
      "\u001b[0m\u001b[0;32m    349 \u001b[0;31m            \u001b[0;32melse\u001b[0m\u001b[0;34m:\u001b[0m\u001b[0;34m\u001b[0m\u001b[0;34m\u001b[0m\u001b[0m\n",
      "\u001b[0m\n",
      "ipdb> \n",
      "> \u001b[0;32m/home/bbeltr1/.miniconda/lib/python3.7/site-packages/numba/dispatcher.py\u001b[0m(350)\u001b[0;36m_compile_for_args\u001b[0;34m()\u001b[0m\n",
      "\u001b[0;32m    348 \u001b[0;31m                \u001b[0margtypes\u001b[0m\u001b[0;34m.\u001b[0m\u001b[0mappend\u001b[0m\u001b[0;34m(\u001b[0m\u001b[0mtypes\u001b[0m\u001b[0;34m.\u001b[0m\u001b[0mOmitted\u001b[0m\u001b[0;34m(\u001b[0m\u001b[0ma\u001b[0m\u001b[0;34m.\u001b[0m\u001b[0mvalue\u001b[0m\u001b[0;34m)\u001b[0m\u001b[0;34m)\u001b[0m\u001b[0;34m\u001b[0m\u001b[0;34m\u001b[0m\u001b[0m\n",
      "\u001b[0m\u001b[0;32m    349 \u001b[0;31m            \u001b[0;32melse\u001b[0m\u001b[0;34m:\u001b[0m\u001b[0;34m\u001b[0m\u001b[0;34m\u001b[0m\u001b[0m\n",
      "\u001b[0m\u001b[0;32m--> 350 \u001b[0;31m                \u001b[0margtypes\u001b[0m\u001b[0;34m.\u001b[0m\u001b[0mappend\u001b[0m\u001b[0;34m(\u001b[0m\u001b[0mself\u001b[0m\u001b[0;34m.\u001b[0m\u001b[0mtypeof_pyval\u001b[0m\u001b[0;34m(\u001b[0m\u001b[0ma\u001b[0m\u001b[0;34m)\u001b[0m\u001b[0;34m)\u001b[0m\u001b[0;34m\u001b[0m\u001b[0;34m\u001b[0m\u001b[0m\n",
      "\u001b[0m\u001b[0;32m    351 \u001b[0;31m        \u001b[0;32mtry\u001b[0m\u001b[0;34m:\u001b[0m\u001b[0;34m\u001b[0m\u001b[0;34m\u001b[0m\u001b[0m\n",
      "\u001b[0m\u001b[0;32m    352 \u001b[0;31m            \u001b[0;32mreturn\u001b[0m \u001b[0mself\u001b[0m\u001b[0;34m.\u001b[0m\u001b[0mcompile\u001b[0m\u001b[0;34m(\u001b[0m\u001b[0mtuple\u001b[0m\u001b[0;34m(\u001b[0m\u001b[0margtypes\u001b[0m\u001b[0;34m)\u001b[0m\u001b[0;34m)\u001b[0m\u001b[0;34m\u001b[0m\u001b[0;34m\u001b[0m\u001b[0m\n",
      "\u001b[0m\n",
      "ipdb> \n",
      "--Call--\n",
      "> \u001b[0;32m/home/bbeltr1/.miniconda/lib/python3.7/site-packages/numba/dispatcher.py\u001b[0m(521)\u001b[0;36mtypeof_pyval\u001b[0;34m()\u001b[0m\n",
      "\u001b[0;32m    519 \u001b[0;31m        \u001b[0;32mreturn\u001b[0m \u001b[0;34m\"%s(%s)\"\u001b[0m \u001b[0;34m%\u001b[0m \u001b[0;34m(\u001b[0m\u001b[0mtype\u001b[0m\u001b[0;34m(\u001b[0m\u001b[0mself\u001b[0m\u001b[0;34m)\u001b[0m\u001b[0;34m.\u001b[0m\u001b[0m__name__\u001b[0m\u001b[0;34m,\u001b[0m \u001b[0mself\u001b[0m\u001b[0;34m.\u001b[0m\u001b[0mpy_func\u001b[0m\u001b[0;34m)\u001b[0m\u001b[0;34m\u001b[0m\u001b[0;34m\u001b[0m\u001b[0m\n",
      "\u001b[0m\u001b[0;32m    520 \u001b[0;31m\u001b[0;34m\u001b[0m\u001b[0m\n",
      "\u001b[0m\u001b[0;32m--> 521 \u001b[0;31m    \u001b[0;32mdef\u001b[0m \u001b[0mtypeof_pyval\u001b[0m\u001b[0;34m(\u001b[0m\u001b[0mself\u001b[0m\u001b[0;34m,\u001b[0m \u001b[0mval\u001b[0m\u001b[0;34m)\u001b[0m\u001b[0;34m:\u001b[0m\u001b[0;34m\u001b[0m\u001b[0;34m\u001b[0m\u001b[0m\n",
      "\u001b[0m\u001b[0;32m    522 \u001b[0;31m        \"\"\"\n",
      "\u001b[0m\u001b[0;32m    523 \u001b[0;31m        \u001b[0mResolve\u001b[0m \u001b[0mthe\u001b[0m \u001b[0mNumba\u001b[0m \u001b[0mtype\u001b[0m \u001b[0mof\u001b[0m \u001b[0mPython\u001b[0m \u001b[0mvalue\u001b[0m \u001b[0;34m*\u001b[0m\u001b[0mval\u001b[0m\u001b[0;34m*\u001b[0m\u001b[0;34m.\u001b[0m\u001b[0;34m\u001b[0m\u001b[0;34m\u001b[0m\u001b[0m\n",
      "\u001b[0m\n",
      "ipdb> \n",
      "> \u001b[0;32m/home/bbeltr1/.miniconda/lib/python3.7/site-packages/numba/dispatcher.py\u001b[0m(529)\u001b[0;36mtypeof_pyval\u001b[0;34m()\u001b[0m\n",
      "\u001b[0;32m    527 \u001b[0;31m        \u001b[0;31m# Not going through the resolve_argument_type() indirection\u001b[0m\u001b[0;34m\u001b[0m\u001b[0;34m\u001b[0m\u001b[0;34m\u001b[0m\u001b[0m\n",
      "\u001b[0m\u001b[0;32m    528 \u001b[0;31m        \u001b[0;31m# can save a couple µs.\u001b[0m\u001b[0;34m\u001b[0m\u001b[0;34m\u001b[0m\u001b[0;34m\u001b[0m\u001b[0m\n",
      "\u001b[0m\u001b[0;32m--> 529 \u001b[0;31m        \u001b[0;32mtry\u001b[0m\u001b[0;34m:\u001b[0m\u001b[0;34m\u001b[0m\u001b[0;34m\u001b[0m\u001b[0m\n",
      "\u001b[0m\u001b[0;32m    530 \u001b[0;31m            \u001b[0mtp\u001b[0m \u001b[0;34m=\u001b[0m \u001b[0mtypeof\u001b[0m\u001b[0;34m(\u001b[0m\u001b[0mval\u001b[0m\u001b[0;34m,\u001b[0m \u001b[0mPurpose\u001b[0m\u001b[0;34m.\u001b[0m\u001b[0margument\u001b[0m\u001b[0;34m)\u001b[0m\u001b[0;34m\u001b[0m\u001b[0;34m\u001b[0m\u001b[0m\n",
      "\u001b[0m\u001b[0;32m    531 \u001b[0;31m        \u001b[0;32mexcept\u001b[0m \u001b[0mValueError\u001b[0m\u001b[0;34m:\u001b[0m\u001b[0;34m\u001b[0m\u001b[0;34m\u001b[0m\u001b[0m\n",
      "\u001b[0m\n",
      "ipdb> \n",
      "> \u001b[0;32m/home/bbeltr1/.miniconda/lib/python3.7/site-packages/numba/dispatcher.py\u001b[0m(530)\u001b[0;36mtypeof_pyval\u001b[0;34m()\u001b[0m\n",
      "\u001b[0;32m    528 \u001b[0;31m        \u001b[0;31m# can save a couple µs.\u001b[0m\u001b[0;34m\u001b[0m\u001b[0;34m\u001b[0m\u001b[0;34m\u001b[0m\u001b[0m\n",
      "\u001b[0m\u001b[0;32m    529 \u001b[0;31m        \u001b[0;32mtry\u001b[0m\u001b[0;34m:\u001b[0m\u001b[0;34m\u001b[0m\u001b[0;34m\u001b[0m\u001b[0m\n",
      "\u001b[0m\u001b[0;32m--> 530 \u001b[0;31m            \u001b[0mtp\u001b[0m \u001b[0;34m=\u001b[0m \u001b[0mtypeof\u001b[0m\u001b[0;34m(\u001b[0m\u001b[0mval\u001b[0m\u001b[0;34m,\u001b[0m \u001b[0mPurpose\u001b[0m\u001b[0;34m.\u001b[0m\u001b[0margument\u001b[0m\u001b[0;34m)\u001b[0m\u001b[0;34m\u001b[0m\u001b[0;34m\u001b[0m\u001b[0m\n",
      "\u001b[0m\u001b[0;32m    531 \u001b[0;31m        \u001b[0;32mexcept\u001b[0m \u001b[0mValueError\u001b[0m\u001b[0;34m:\u001b[0m\u001b[0;34m\u001b[0m\u001b[0;34m\u001b[0m\u001b[0m\n",
      "\u001b[0m\u001b[0;32m    532 \u001b[0;31m            \u001b[0mtp\u001b[0m \u001b[0;34m=\u001b[0m \u001b[0mtypes\u001b[0m\u001b[0;34m.\u001b[0m\u001b[0mpyobject\u001b[0m\u001b[0;34m\u001b[0m\u001b[0;34m\u001b[0m\u001b[0m\n",
      "\u001b[0m\n",
      "ipdb> \n",
      "--Call--\n",
      "> \u001b[0;32m/home/bbeltr1/.miniconda/lib/python3.7/site-packages/numba/typing/typeof.py\u001b[0m(24)\u001b[0;36mtypeof\u001b[0;34m()\u001b[0m\n",
      "\u001b[0;32m     22 \u001b[0;31m\u001b[0m_TypeofContext\u001b[0m \u001b[0;34m=\u001b[0m \u001b[0mnamedtuple\u001b[0m\u001b[0;34m(\u001b[0m\u001b[0;34m\"_TypeofContext\"\u001b[0m\u001b[0;34m,\u001b[0m \u001b[0;34m(\u001b[0m\u001b[0;34m\"purpose\"\u001b[0m\u001b[0;34m,\u001b[0m\u001b[0;34m)\u001b[0m\u001b[0;34m)\u001b[0m\u001b[0;34m\u001b[0m\u001b[0;34m\u001b[0m\u001b[0m\n",
      "\u001b[0m\u001b[0;32m     23 \u001b[0;31m\u001b[0;34m\u001b[0m\u001b[0m\n",
      "\u001b[0m\u001b[0;32m---> 24 \u001b[0;31m\u001b[0;32mdef\u001b[0m \u001b[0mtypeof\u001b[0m\u001b[0;34m(\u001b[0m\u001b[0mval\u001b[0m\u001b[0;34m,\u001b[0m \u001b[0mpurpose\u001b[0m\u001b[0;34m=\u001b[0m\u001b[0mPurpose\u001b[0m\u001b[0;34m.\u001b[0m\u001b[0margument\u001b[0m\u001b[0;34m)\u001b[0m\u001b[0;34m:\u001b[0m\u001b[0;34m\u001b[0m\u001b[0;34m\u001b[0m\u001b[0m\n",
      "\u001b[0m\u001b[0;32m     25 \u001b[0;31m    \"\"\"\n",
      "\u001b[0m\u001b[0;32m     26 \u001b[0;31m    \u001b[0mGet\u001b[0m \u001b[0mthe\u001b[0m \u001b[0mNumba\u001b[0m \u001b[0mtype\u001b[0m \u001b[0mof\u001b[0m \u001b[0ma\u001b[0m \u001b[0mPython\u001b[0m \u001b[0mvalue\u001b[0m \u001b[0;32mfor\u001b[0m \u001b[0mthe\u001b[0m \u001b[0mgiven\u001b[0m \u001b[0mpurpose\u001b[0m\u001b[0;34m.\u001b[0m\u001b[0;34m\u001b[0m\u001b[0;34m\u001b[0m\u001b[0m\n",
      "\u001b[0m\n",
      "ipdb> \n",
      "> \u001b[0;32m/home/bbeltr1/.miniconda/lib/python3.7/site-packages/numba/typing/typeof.py\u001b[0m(29)\u001b[0;36mtypeof\u001b[0;34m()\u001b[0m\n",
      "\u001b[0;32m     27 \u001b[0;31m    \"\"\"\n",
      "\u001b[0m\u001b[0;32m     28 \u001b[0;31m    \u001b[0;31m# Note the behaviour for Purpose.argument must match _typeof.c.\u001b[0m\u001b[0;34m\u001b[0m\u001b[0;34m\u001b[0m\u001b[0;34m\u001b[0m\u001b[0m\n",
      "\u001b[0m\u001b[0;32m---> 29 \u001b[0;31m    \u001b[0mc\u001b[0m \u001b[0;34m=\u001b[0m \u001b[0m_TypeofContext\u001b[0m\u001b[0;34m(\u001b[0m\u001b[0mpurpose\u001b[0m\u001b[0;34m)\u001b[0m\u001b[0;34m\u001b[0m\u001b[0;34m\u001b[0m\u001b[0m\n",
      "\u001b[0m\u001b[0;32m     30 \u001b[0;31m    \u001b[0mty\u001b[0m \u001b[0;34m=\u001b[0m \u001b[0mtypeof_impl\u001b[0m\u001b[0;34m(\u001b[0m\u001b[0mval\u001b[0m\u001b[0;34m,\u001b[0m \u001b[0mc\u001b[0m\u001b[0;34m)\u001b[0m\u001b[0;34m\u001b[0m\u001b[0;34m\u001b[0m\u001b[0m\n",
      "\u001b[0m\u001b[0;32m     31 \u001b[0;31m    \u001b[0;32mif\u001b[0m \u001b[0mty\u001b[0m \u001b[0;32mis\u001b[0m \u001b[0;32mNone\u001b[0m\u001b[0;34m:\u001b[0m\u001b[0;34m\u001b[0m\u001b[0;34m\u001b[0m\u001b[0m\n",
      "\u001b[0m\n",
      "ipdb> exit\n"
     ]
    }
   ],
   "source": [
    "%%debug\n",
    "Nt = 1e6; Nt_save = 1e4;\n",
    "t = np.arange(0, Nt*dt, dt) # take Nt time steps\n",
    "t_save = t[::int(Nt/Nt_save)] # save only a subsample\n",
    "# run actual simulation\n",
    "x = rouse._jit_rouse_homologs(N, N_tot, tether_list, loop_list, L, b, D, Aex, R, R, R, t, t_save)"
   ]
  },
  {
   "cell_type": "code",
   "execution_count": 42,
   "metadata": {},
   "outputs": [],
   "source": [
    "%matplotlib qt5"
   ]
  },
  {
   "cell_type": "code",
   "execution_count": 43,
   "metadata": {},
   "outputs": [],
   "source": [
    "hv = rouse.HomologViewer(x, N, loop_list)"
   ]
  },
  {
   "cell_type": "markdown",
   "metadata": {},
   "source": [
    "### Connectivity\n",
    "\n",
    "If we make the only paired bead be one of the end beads, then the polymers\n",
    "should behave as one long linear polymer.\n",
    "\n"
   ]
  },
  {
   "cell_type": "code",
   "execution_count": null,
   "metadata": {},
   "outputs": [],
   "source": [
    "N = int(1e2+1); L = 17.475; R = 1.000; b = 0.015; D = 2e1 # ChrV\n",
    "dt = rouse.recommended_dt(N, L, b, D)\n",
    "Aex = 0; # no confinement\n",
    "N_tot, loop_list = rouse.homolog_points_to_loops_list(N, [0]) # only one end tethered\n",
    "tether_list = np.array([]).astype(int) # no tethered loci"
   ]
  },
  {
   "cell_type": "code",
   "execution_count": null,
   "metadata": {},
   "outputs": [],
   "source": [
    "x = rouse._jit_rouse_homologs(N, N_tot, tether_list, loop_list, L, b, D, Aex, R, R, R, t, t_save)"
   ]
  },
  {
   "cell_type": "markdown",
   "metadata": {},
   "source": [
    "The above was verified to work visually using"
   ]
  },
  {
   "cell_type": "code",
   "execution_count": null,
   "metadata": {},
   "outputs": [],
   "source": [
    "%matplotlib qt5\n",
    "hv = rouse.HomologViewer(x, int(N), loop_list)"
   ]
  },
  {
   "cell_type": "markdown",
   "metadata": {},
   "source": [
    "If we make both end beads be homologously paired, then the two polymers should\n",
    "behave as one larger ring polymer."
   ]
  },
  {
   "cell_type": "code",
   "execution_count": null,
   "metadata": {},
   "outputs": [],
   "source": [
    "N = int(1e2+1); L = 17.475; R = 1.000; b = 0.015; D = 2e1 # ChrV\n",
    "dt = rouse.recommended_dt(N, L, b, D)\n",
    "Aex = 0; # no confinement\n",
    "N_tot, loop_list = rouse.homolog_points_to_loops_list(N, [0, 100]) # only one end tethered\n",
    "tether_list = np.array([]).astype(int) # no tethered loci"
   ]
  },
  {
   "cell_type": "code",
   "execution_count": null,
   "metadata": {},
   "outputs": [],
   "source": [
    "x = rouse._jit_rouse_homologs(N, N_tot, tether_list, loop_list, L, b, D, Aex, R, R, R, t, t_save)"
   ]
  },
  {
   "cell_type": "markdown",
   "metadata": {},
   "source": [
    "The above was verified to work visually using"
   ]
  },
  {
   "cell_type": "code",
   "execution_count": null,
   "metadata": {},
   "outputs": [],
   "source": [
    "%matplotlib qt5\n",
    "hv = rouse.HomologViewer(x, int(N), loop_list)"
   ]
  },
  {
   "cell_type": "markdown",
   "metadata": {},
   "source": [
    "## Generating Pairing Sites"
   ]
  },
  {
   "cell_type": "markdown",
   "metadata": {},
   "source": [
    "Our simulation as written is purely Brownian Dynamics, (no Gillespie component). This means that we treat the \"existing\" homolog paired sites as fixed and ask how the polymer fluctuates assuming no new connections are formed.\n",
    "\n",
    "Thus, our method for choosing which sites are \"paired\" in a given simulation will greatly affect our results.\n",
    "\n",
    "By default, all of our simulations will simply choose pairing sites uniformly according to some density `FP`. That is, each individual bead will have a probability $0\\leq\\texttt{FP}\\leq1$ of being paired.\n",
    "\n",
    "However, we present below an alternative strategy for choosing these sites, that involves explicitly simulating the dynamic process of homolog pairing."
   ]
  },
  {
   "cell_type": "markdown",
   "metadata": {},
   "source": [
    "### $k_h \\lll k_\\text{loop}$"
   ]
  },
  {
   "cell_type": "markdown",
   "metadata": {},
   "source": [
    "In the limit as the rate of polymer loop formation eclipses the rate of stable homolog junction formation (i.e. if it requires many \"kissing\" events to form a stable homolog junction), then we can treat the homolog pairing process approximately as a Markov chain where the transition rates from a given loci being unpaired to paired simply are proportional to the looping probabilities for the ring polymer defined by its nearest neighbors (where there already exists a junction) to the left and right."
   ]
  },
  {
   "cell_type": "markdown",
   "metadata": {},
   "source": [
    "### No Unpairing"
   ]
  },
  {
   "cell_type": "markdown",
   "metadata": {},
   "source": [
    "In the case $k_h \\lll k_\\text{loop}$ and where we don't allow unpairing events to occur, we can actually analytically compute the final loop size distribution."
   ]
  },
  {
   "cell_type": "code",
   "execution_count": 1,
   "metadata": {},
   "outputs": [],
   "source": [
    "#TODO copy from notes to here"
   ]
  },
  {
   "cell_type": "markdown",
   "metadata": {},
   "source": [
    "## Simulations\n",
    "\n",
    "Simulate two rouse chains in confinement, various connectivities.\n",
    "\n",
    "The ura3 gene is on ChrV, spanning bases 116167--116970. ChrV is 576874 bases, and budding yeast have a mean linker length of 15bp (as estimated based on a nucleosome repeat length (NRL) of \\~165bp). This corresponds to a WLC with an effective persistence length of \\~15nm in theta-solvent conditions (see Beltran & Kannan et al, PRL 2019).  This number has elsewhere been estimated to be as low as 5nm experimentally (Hajjoul et al, Genome Research 2013). Since only 15/165\\~9% of DNA is in linkers (linear distance along this effective WLC) ChrV's \\~3496 nucleosomes each cover about one third of a Kuhn length.  Meaning the chain can be thought of as being made of 1165 Kuhn lengths of 15nm each (for 17475nm total).\n",
    "\n",
    "So in $\\mu$m, L=17.475, b=0.015, and N=101 is used to give 100 segments of equal length. (which would make the ura3 locus bead 20).\n",
    "\n",
    "The nucleus has a radius of about a micron, and loci reach the confinement after about a minute. Because their Rouse diffusion has basically the form $1.9544100*b*D^{1/2}t^{1/2}$, then we can calculate that $1^2 \\mu{}m^2 = 1.95441 \\times 0.015 \\mu{}m \\times D^{1/2} um/s^{1/2} \\times 60^{1/2} s^{1/2}$. In other words, $D \\approx 19.39 \\mu{}m^2/s$.\n",
    "So R=1.000, D=2e1.\n",
    "\n",
    "Notice that since the terminal relaxation time of the polymer is $N^2 b^2/D$...\n"
   ]
  },
  {
   "cell_type": "markdown",
   "metadata": {},
   "source": [
    "Assuming that we can treat the maximum attained MSD value as the confinement size, approximately, we can just use teh MSD at time 30 as a proxy for the confinement size, since it's basically flat after that.\n",
    "\n",
    "If we look at the distribution of these values in the data, we see that the squared displacement has a distribution which is linear"
   ]
  },
  {
   "cell_type": "code",
   "execution_count": null,
   "metadata": {},
   "outputs": [],
   "source": [
    "msds = msds.msd(burgess.df_flat, mscd=True, include_z=True, traj_group=burgess.cell_cols, groups=burgess.cell_cols)\n",
    "m = sds.reset_index()\n",
    "data = m[m['delta'] == 30]['mean'].values\n",
    "data = data[~np.isnan(data)]\n",
    "Y, X = np.histogram(data)\n",
    "scipy.stats.linregress(X[3:], Y[2:])\n"
   ]
  },
  {
   "cell_type": "markdown",
   "metadata": {},
   "source": [
    "the above gives output of \n",
    "\n",
    "    >>> LinregressResult(slope=-648.6107382252995, intercept=1340.988095238095, rvalue=-0.9865990280608326, pvalue=5.956260174887604e-06, stderr=43.79162733110961)\n"
   ]
  },
  {
   "cell_type": "markdown",
   "metadata": {},
   "source": [
    "if we don't square the values, we see that we get a peak at around 0.8um, which I guess will be the mean confinement radius. this is close enough to the current simulation value of ~1um.\n",
    "\n",
    "If we use t=60, 90, or 120s instead, we still get values around 1um, like 1.02um to 1.12um..."
   ]
  },
  {
   "cell_type": "code",
   "execution_count": null,
   "metadata": {},
   "outputs": [],
   "source": []
  }
 ],
 "metadata": {
  "kernelspec": {
   "display_name": "Python 3",
   "language": "python",
   "name": "python3"
  },
  "language_info": {
   "codemirror_mode": {
    "name": "ipython",
    "version": 3
   },
   "file_extension": ".py",
   "mimetype": "text/x-python",
   "name": "python",
   "nbconvert_exporter": "python",
   "pygments_lexer": "ipython3",
   "version": "3.7.3"
  },
  "toc": {
   "toc_cell": true,
   "toc_number_sections": true,
   "toc_threshold": 6,
   "toc_window_display": true
  },
  "toc_position": {
   "height": "42px",
   "left": "580.8px",
   "right": "20px",
   "top": "120px",
   "width": "156px"
  }
 },
 "nbformat": 4,
 "nbformat_minor": 2
}
